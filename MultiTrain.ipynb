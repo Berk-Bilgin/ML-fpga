{
 "cells": [
  {
   "cell_type": "markdown",
   "metadata": {},
   "source": [
    "Multichannel (n=21)"
   ]
  },
  {
   "cell_type": "code",
   "execution_count": 1,
   "metadata": {},
   "outputs": [
    {
     "name": "stdout",
     "output_type": "stream",
     "text": [
      "(40062, 21, 32, 1) (2109, 21, 32, 1)\n"
     ]
    }
   ],
   "source": [
    "import pyedflib\n",
    "import numpy as np\n",
    "import matplotlib.pyplot as plt\n",
    "import os\n",
    "from sklearn.model_selection import train_test_split\n",
    "\n",
    "#Samples are represented in 16-bit 2's complement\n",
    "\n",
    "# Get the directory where the script is located\n",
    "script_dir = os.getcwd()\n",
    "file_counter = 0\n",
    "Files = []\n",
    "badFiles = []\n",
    "# Construct the full path to the file\n",
    "file_path = os.path.join(script_dir, 'EDF', 'PD patient Frontal')\n",
    "for filename in os.listdir(file_path):\n",
    "    # Check if the file ends with .edf\n",
    "    if filename.endswith('.edf'):\n",
    "        file_counter = file_counter+1\n",
    "        Files.append(filename)\n",
    "max_values = []\n",
    "min_values = []\n",
    "for k in np.arange(file_counter):\n",
    "    path = os.path.join(file_path, Files[k])\n",
    "    try:\n",
    "        f = pyedflib.EdfReader(path)\n",
    "    except OSError:\n",
    "        badFiles.append(Files[k])     \n",
    "Files = [item for item in Files if item not in badFiles]\n",
    "n = f.signals_in_file\n",
    "n = n-9\n",
    "number_of_samples = f.getNSamples()[0]\n",
    "Nblocks = int((number_of_samples-250)/32)\n",
    "TotalBlocks=(5*Nblocks + int((223500-250)/32))\n",
    "BlockCount=0\n",
    "full_data = np.ndarray(shape=(TotalBlocks, 21, 32, 1))\n",
    "multiplier = f.getPhysicalMaximum(0)/f.getDigitalMaximum(0)\n",
    "for index, name in enumerate(Files):\n",
    "    path = os.path.join(file_path, name)\n",
    "    f = pyedflib.EdfReader(path)\n",
    "    number_of_samples = f.getNSamples()[0]\n",
    "    Nblocks = int((number_of_samples-250)/32)\n",
    "    sigbufs = np.zeros(number_of_samples)\n",
    "    signalList = []  \n",
    "    for i in np.arange(n):\n",
    "        sigbufs[:] = f.readSignal(i, digital=True)\n",
    "        signalList.append(sigbufs[250:]) \n",
    "        for j in np.arange(Nblocks):\n",
    "                full_data[j+BlockCount][i] = signalList[i][j*32:(j+1)*32].reshape(32, 1)\n",
    "    BlockCount = BlockCount+Nblocks\n",
    "    f.close()\n",
    "train_data, test_data = train_test_split(full_data, test_size=0.05, random_state=42)\n",
    "print(train_data.shape, test_data.shape)"
   ]
  },
  {
   "cell_type": "code",
   "execution_count": 2,
   "metadata": {},
   "outputs": [
    {
     "name": "stderr",
     "output_type": "stream",
     "text": [
      "2024-06-29 18:07:41.075283: I tensorflow/stream_executor/platform/default/dso_loader.cc:49] Successfully opened dynamic library libcudart.so.10.1\n"
     ]
    }
   ],
   "source": [
    "import tensorflow as tf\n",
    "def prd_loss_dig2phy(y_true, y_pred):\n",
    "    y_true = (y_true)*multiplier\n",
    "    y_pred = (y_pred)*multiplier\n",
    "    rms_deviation = (tf.reduce_sum(tf.square(y_true - y_pred)))\n",
    "    percentage_rmsd = tf.sqrt(rms_deviation/(tf.reduce_sum(tf.square(y_true))+tf.keras.backend.epsilon()))* 100\n",
    "    return percentage_rmsd"
   ]
  },
  {
   "cell_type": "code",
   "execution_count": 3,
   "metadata": {},
   "outputs": [],
   "source": [
    "import tensorflow as tf\n",
    "def prd_loss(y_true, y_pred):\n",
    "    rms_deviation = (tf.reduce_sum(tf.square(y_true - y_pred)))\n",
    "    percentage_rmsd = tf.sqrt(rms_deviation/(tf.reduce_sum(tf.square(y_true))+tf.keras.backend.epsilon()))* 100\n",
    "    return percentage_rmsd"
   ]
  },
  {
   "cell_type": "markdown",
   "metadata": {},
   "source": [
    "CR = (21x32)/112 = 6"
   ]
  },
  {
   "cell_type": "code",
   "execution_count": 21,
   "metadata": {},
   "outputs": [
    {
     "name": "stdout",
     "output_type": "stream",
     "text": [
      "Model: \"sequential\"\n",
      "_________________________________________________________________\n",
      "Layer (type)                 Output Shape              Param #   \n",
      "=================================================================\n",
      "dense_16 (Dense)             (None, 128, 121)          242       \n",
      "=================================================================\n",
      "Total params: 242\n",
      "Trainable params: 242\n",
      "Non-trainable params: 0\n",
      "_________________________________________________________________\n"
     ]
    }
   ],
   "source": [
    "import tensorflow as tf\n",
    "from tensorflow.keras import layers\n",
    "\n",
    "model = tf.keras.Sequential()\n",
    "model.add(layers.Input(shape=(128, 1)))  # Specify the input shape\n",
    "model.add(layers.Dense(121, activation='relu'))  # Define the dense layer\n",
    "\n",
    "# Print the model summary to verify the shapes\n",
    "model.summary()\n"
   ]
  },
  {
   "cell_type": "code",
   "execution_count": 40,
   "metadata": {},
   "outputs": [
    {
     "name": "stdout",
     "output_type": "stream",
     "text": [
      "Model: \"encoder\"\n",
      "_________________________________________________________________\n",
      "Layer (type)                 Output Shape              Param #   \n",
      "=================================================================\n",
      "input_data (InputLayer)      [(None, 21, 32, 1)]       0         \n",
      "_________________________________________________________________\n",
      "conv2d_121 (Conv2D)          (None, 21, 32, 16)        272       \n",
      "_________________________________________________________________\n",
      "max_pooling2d_52 (MaxPooling (None, 21, 16, 16)        0         \n",
      "_________________________________________________________________\n",
      "conv2d_122 (Conv2D)          (None, 21, 16, 8)         2056      \n",
      "_________________________________________________________________\n",
      "max_pooling2d_53 (MaxPooling (None, 7, 16, 8)          0         \n",
      "_________________________________________________________________\n",
      "conv2d_123 (Conv2D)          (None, 7, 16, 1)          129       \n",
      "_________________________________________________________________\n",
      "reshape_51 (Reshape)         (None, 112, 1)            0         \n",
      "=================================================================\n",
      "Total params: 2,457\n",
      "Trainable params: 2,457\n",
      "Non-trainable params: 0\n",
      "_________________________________________________________________\n",
      "Model: \"decoder\"\n",
      "_________________________________________________________________\n",
      "Layer (type)                 Output Shape              Param #   \n",
      "=================================================================\n",
      "encoded_input (InputLayer)   [(None, 112, 1)]          0         \n",
      "_________________________________________________________________\n",
      "reshape_52 (Reshape)         (None, 7, 16, 1)          0         \n",
      "_________________________________________________________________\n",
      "conv2d_124 (Conv2D)          (None, 7, 16, 8)          136       \n",
      "_________________________________________________________________\n",
      "up_sampling2d_28 (UpSampling (None, 21, 16, 8)         0         \n",
      "_________________________________________________________________\n",
      "conv2d_125 (Conv2D)          (None, 21, 16, 16)        2064      \n",
      "_________________________________________________________________\n",
      "up_sampling2d_29 (UpSampling (None, 21, 32, 16)        0         \n",
      "_________________________________________________________________\n",
      "conv2d_126 (Conv2D)          (None, 21, 32, 8)         2056      \n",
      "_________________________________________________________________\n",
      "conv2d_127 (Conv2D)          (None, 21, 32, 1)         129       \n",
      "=================================================================\n",
      "Total params: 4,385\n",
      "Trainable params: 4,385\n",
      "Non-trainable params: 0\n",
      "_________________________________________________________________\n"
     ]
    }
   ],
   "source": [
    "from tensorflow import keras\n",
    "import numpy as np\n",
    "\n",
    "# Define the encoder\n",
    "input_data = keras.layers.Input(shape=(21, 32, 1), name=\"input_data\")\n",
    "x = keras.layers.Conv2D(16, (4, 4), activation='relu', padding='same')(input_data)\n",
    "x = keras.layers.MaxPooling2D((1, 2), padding='same')(x)  # 21x32 -> 21x16\n",
    "x = keras.layers.Conv2D(8, (4, 4), activation='relu', padding='same')(x)\n",
    "x = keras.layers.MaxPooling2D((3, 1), padding='same')(x)  # 21x16 -> 7x16\n",
    "x = keras.layers.Conv2D(1, (4, 4), activation='relu', padding='same')(x)  # Reduce to single filter\n",
    "encoded = keras.layers.Reshape((112, 1))(x)  #  to shape (112, 1)\n",
    "\n",
    "encoder = keras.models.Model(input_data, encoded, name=\"encoder\")\n",
    "\n",
    "# Define the decoder\n",
    "encoded_input = keras.layers.Input(shape=(112, 1), name=\"encoded_input\")  # 112, 1\n",
    "x = keras.layers.Reshape((7, 16, 1))(encoded_input)  # Reshape back to (7, 16, 1)\n",
    "x = keras.layers.Conv2D(8, (4, 4), activation='relu', padding='same')(x)\n",
    "x = keras.layers.UpSampling2D((3, 1))(x)  #21x8 -> 21x8\n",
    "x = keras.layers.Conv2D(16, (4, 4), activation='relu', padding='same')(x)\n",
    "x = keras.layers.UpSampling2D((1, 2))(x)  # 21x16 -> 21x32\n",
    "x = keras.layers.Conv2D(8, (4, 4), activation='relu', padding='same')(x)\n",
    "decoded = keras.layers.Conv2D(1, (4, 4), activation='linear', padding='same')(x)  # 21x32\n",
    "\n",
    "decoder = keras.models.Model(encoded_input, decoded, name=\"decoder\")\n",
    "\n",
    "# Define the autoencoder\n",
    "autoencoder_input = keras.layers.Input(shape=(21, 32, 1), name=\"autoencoder_input\")\n",
    "encoded_data = encoder(autoencoder_input)\n",
    "decoded_data = decoder(encoded_data)\n",
    "\n",
    "autoencoder = keras.models.Model(autoencoder_input, decoded_data, name=\"autoencoder\")\n",
    "\n",
    "# Compile the autoencoder\n",
    "autoencoder.compile(optimizer='adam', loss=prd_loss_dig2phy, metrics=['mse'])\n",
    "\n",
    "# Summary of the autoencoder\n",
    "encoder.summary()\n",
    "decoder.summary()\n"
   ]
  },
  {
   "cell_type": "code",
   "execution_count": 41,
   "metadata": {},
   "outputs": [
    {
     "name": "stdout",
     "output_type": "stream",
     "text": [
      "Epoch 1/40\n",
      "501/501 [==============================] - 7s 13ms/step - loss: 83.4214 - mse: 50516.0402 - val_loss: 63.5738 - val_mse: 28090.3203\n",
      "Epoch 2/40\n",
      "501/501 [==============================] - 6s 13ms/step - loss: 62.3447 - mse: 26377.4738 - val_loss: 58.2425 - val_mse: 22046.3164\n",
      "Epoch 3/40\n",
      "501/501 [==============================] - 6s 13ms/step - loss: 57.8785 - mse: 22226.4604 - val_loss: 54.4983 - val_mse: 19630.5781\n",
      "Epoch 4/40\n",
      "501/501 [==============================] - 6s 12ms/step - loss: 54.0968 - mse: 20037.3632 - val_loss: 50.7691 - val_mse: 16865.2285\n",
      "Epoch 5/40\n",
      "501/501 [==============================] - 6s 12ms/step - loss: 52.1751 - mse: 16276.6734 - val_loss: 50.2013 - val_mse: 16403.1758\n",
      "Epoch 6/40\n",
      "501/501 [==============================] - 6s 12ms/step - loss: 50.7125 - mse: 16503.0963 - val_loss: 52.2754 - val_mse: 18582.1543\n",
      "Epoch 7/40\n",
      "501/501 [==============================] - 6s 12ms/step - loss: 50.3313 - mse: 13999.4209 - val_loss: 48.4685 - val_mse: 15165.1836\n",
      "Epoch 8/40\n",
      "501/501 [==============================] - 6s 12ms/step - loss: 49.0389 - mse: 13840.3159 - val_loss: 47.7895 - val_mse: 14792.0938\n",
      "Epoch 9/40\n",
      "501/501 [==============================] - 6s 13ms/step - loss: 47.8115 - mse: 14291.7678 - val_loss: 46.5592 - val_mse: 13627.7383\n",
      "Epoch 10/40\n",
      "501/501 [==============================] - 6s 12ms/step - loss: 46.7750 - mse: 12971.6901 - val_loss: 51.3019 - val_mse: 18028.9727\n",
      "Epoch 11/40\n",
      "501/501 [==============================] - 6s 13ms/step - loss: 46.7464 - mse: 13569.3168 - val_loss: 45.6258 - val_mse: 13432.3457\n",
      "Epoch 12/40\n",
      "501/501 [==============================] - 7s 14ms/step - loss: 46.3762 - mse: 13647.0667 - val_loss: 45.2677 - val_mse: 13129.3633\n",
      "Epoch 13/40\n",
      "501/501 [==============================] - 6s 12ms/step - loss: 44.7373 - mse: 12266.4421 - val_loss: 43.7787 - val_mse: 12168.2236\n",
      "Epoch 14/40\n",
      "501/501 [==============================] - 6s 12ms/step - loss: 44.6387 - mse: 11012.5632 - val_loss: 43.8294 - val_mse: 11915.0098\n",
      "Epoch 15/40\n",
      "501/501 [==============================] - 6s 12ms/step - loss: 44.8566 - mse: 10401.3310 - val_loss: 45.8504 - val_mse: 13275.6494\n",
      "Epoch 16/40\n",
      "501/501 [==============================] - 6s 12ms/step - loss: 44.6229 - mse: 11329.0492 - val_loss: 43.3793 - val_mse: 11630.2061\n",
      "Epoch 17/40\n",
      "501/501 [==============================] - 6s 12ms/step - loss: 44.3441 - mse: 9488.6736 - val_loss: 42.9196 - val_mse: 11669.8643\n",
      "Epoch 18/40\n",
      "501/501 [==============================] - 6s 12ms/step - loss: 43.0679 - mse: 9976.3568 - val_loss: 43.6764 - val_mse: 11879.0850\n",
      "Epoch 19/40\n",
      "501/501 [==============================] - 6s 12ms/step - loss: 43.0346 - mse: 9833.4127 - val_loss: 41.8042 - val_mse: 10535.0098\n",
      "Epoch 20/40\n",
      "501/501 [==============================] - 6s 13ms/step - loss: 42.3544 - mse: 10144.9480 - val_loss: 41.9994 - val_mse: 10997.2900\n",
      "Epoch 21/40\n",
      "501/501 [==============================] - 7s 13ms/step - loss: 42.8496 - mse: 10060.3014 - val_loss: 42.0360 - val_mse: 10808.4961\n",
      "Epoch 22/40\n",
      "501/501 [==============================] - 7s 13ms/step - loss: 41.8765 - mse: 9608.4916 - val_loss: 42.1117 - val_mse: 10842.1670\n",
      "Epoch 23/40\n",
      "501/501 [==============================] - 7s 13ms/step - loss: 41.1678 - mse: 10952.2118 - val_loss: 42.6283 - val_mse: 11050.9971\n",
      "Epoch 24/40\n",
      "501/501 [==============================] - 7s 14ms/step - loss: 41.9558 - mse: 10477.7895 - val_loss: 40.6856 - val_mse: 10325.6582\n",
      "Epoch 25/40\n",
      "501/501 [==============================] - 7s 14ms/step - loss: 42.7609 - mse: 9026.1532 - val_loss: 41.7543 - val_mse: 10485.9297\n",
      "Epoch 26/40\n",
      "501/501 [==============================] - 7s 13ms/step - loss: 41.6478 - mse: 10249.4212 - val_loss: 41.8329 - val_mse: 10722.6768\n",
      "Epoch 27/40\n",
      "501/501 [==============================] - 7s 13ms/step - loss: 42.1068 - mse: 9870.3171 - val_loss: 41.5928 - val_mse: 10286.1738\n",
      "Epoch 28/40\n",
      "501/501 [==============================] - 7s 14ms/step - loss: 41.3974 - mse: 9862.0953 - val_loss: 42.8442 - val_mse: 11328.5088\n",
      "Epoch 29/40\n",
      "501/501 [==============================] - 7s 13ms/step - loss: 41.8255 - mse: 8412.7794 - val_loss: 41.0651 - val_mse: 10151.1836\n",
      "Epoch 30/40\n",
      "501/501 [==============================] - 7s 13ms/step - loss: 40.7987 - mse: 8064.5143 - val_loss: 40.6769 - val_mse: 10034.0762\n",
      "Epoch 31/40\n",
      "501/501 [==============================] - 7s 13ms/step - loss: 40.4663 - mse: 10457.9765 - val_loss: 40.0101 - val_mse: 9681.5508\n",
      "Epoch 32/40\n",
      "501/501 [==============================] - 7s 13ms/step - loss: 40.8804 - mse: 8590.8965 - val_loss: 43.4662 - val_mse: 11742.1143\n",
      "Epoch 33/40\n",
      "501/501 [==============================] - 7s 13ms/step - loss: 40.9881 - mse: 10209.8648 - val_loss: 40.2235 - val_mse: 9818.2490\n",
      "Epoch 34/40\n",
      "501/501 [==============================] - 7s 14ms/step - loss: 40.2987 - mse: 7430.8534 - val_loss: 39.3870 - val_mse: 9317.9131\n",
      "Epoch 35/40\n",
      "501/501 [==============================] - 6s 13ms/step - loss: 40.3225 - mse: 9209.9353 - val_loss: 39.9784 - val_mse: 9575.5869\n",
      "Epoch 36/40\n",
      "501/501 [==============================] - 6s 13ms/step - loss: 39.7401 - mse: 9519.9576 - val_loss: 38.9830 - val_mse: 8921.9473\n",
      "Epoch 37/40\n",
      "501/501 [==============================] - 6s 13ms/step - loss: 40.0905 - mse: 7713.7598 - val_loss: 39.4879 - val_mse: 9471.2383\n",
      "Epoch 38/40\n",
      "501/501 [==============================] - 7s 13ms/step - loss: 39.0584 - mse: 7259.5084 - val_loss: 40.3218 - val_mse: 9587.2197\n",
      "Epoch 39/40\n",
      "501/501 [==============================] - 6s 13ms/step - loss: 39.9914 - mse: 7277.6117 - val_loss: 39.2554 - val_mse: 8965.4688\n",
      "Epoch 40/40\n",
      "501/501 [==============================] - 6s 13ms/step - loss: 40.3721 - mse: 8224.5915 - val_loss: 39.3467 - val_mse: 9030.5137\n"
     ]
    },
    {
     "ename": "",
     "evalue": "",
     "output_type": "error",
     "traceback": [
      "\u001b[1;31mThe Kernel crashed while executing code in the current cell or a previous cell. \n",
      "\u001b[1;31mPlease review the code in the cell(s) to identify a possible cause of the failure. \n",
      "\u001b[1;31mClick <a href='https://aka.ms/vscodeJupyterKernelCrash'>here</a> for more info. \n",
      "\u001b[1;31mView Jupyter <a href='command:jupyter.viewOutput'>log</a> for further details."
     ]
    }
   ],
   "source": [
    "# Train the autoencoder\n",
    "autoencoder.fit(train_data, train_data, epochs=40, batch_size=64, shuffle=True, validation_split=0.2)\n",
    "\n",
    "# Save the encoder and decoder\n",
    "encoder.save(\"encoder_model.h5\")\n",
    "decoder.save(\"decoder_model.h5\")"
   ]
  }
 ],
 "metadata": {
  "kernelspec": {
   "display_name": "tf-gpu",
   "language": "python",
   "name": "python3"
  },
  "language_info": {
   "codemirror_mode": {
    "name": "ipython",
    "version": 3
   },
   "file_extension": ".py",
   "mimetype": "text/x-python",
   "name": "python",
   "nbconvert_exporter": "python",
   "pygments_lexer": "ipython3",
   "version": "3.8.19"
  }
 },
 "nbformat": 4,
 "nbformat_minor": 2
}
